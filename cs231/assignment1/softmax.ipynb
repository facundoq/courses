{
 "cells": [
  {
   "cell_type": "markdown",
   "metadata": {},
   "source": [
    "# Softmax exercise\n",
    "\n",
    "*Complete and hand in this completed worksheet (including its outputs and any supporting code outside of the worksheet) with your assignment submission. For more details see the [assignments page](http://vision.stanford.edu/teaching/cs231n/assignments.html) on the course website.*\n",
    "\n",
    "This exercise is analogous to the SVM exercise. You will:\n",
    "\n",
    "- implement a fully-vectorized **loss function** for the Softmax classifier\n",
    "- implement the fully-vectorized expression for its **analytic gradient**\n",
    "- **check your implementation** with numerical gradient\n",
    "- use a validation set to **tune the learning rate and regularization** strength\n",
    "- **optimize** the loss function with **SGD**\n",
    "- **visualize** the final learned weights\n"
   ]
  },
  {
   "cell_type": "code",
   "execution_count": 3,
   "metadata": {
    "collapsed": false
   },
   "outputs": [
    {
     "name": "stdout",
     "output_type": "stream",
     "text": [
      "The autoreload extension is already loaded. To reload it, use:\n",
      "  %reload_ext autoreload\n"
     ]
    }
   ],
   "source": [
    "import random\n",
    "import numpy as np\n",
    "from cs231n.data_utils import load_CIFAR10\n",
    "import matplotlib.pyplot as plt\n",
    "%matplotlib inline\n",
    "plt.rcParams['figure.figsize'] = (10.0, 8.0) # set default size of plots\n",
    "plt.rcParams['image.interpolation'] = 'nearest'\n",
    "plt.rcParams['image.cmap'] = 'gray'\n",
    "\n",
    "# for auto-reloading extenrnal modules\n",
    "# see http://stackoverflow.com/questions/1907993/autoreload-of-modules-in-ipython\n",
    "%load_ext autoreload\n",
    "%autoreload 2"
   ]
  },
  {
   "cell_type": "code",
   "execution_count": 5,
   "metadata": {
    "collapsed": false
   },
   "outputs": [
    {
     "name": "stdout",
     "output_type": "stream",
     "text": [
      "Train data shape:  (49000, 3073)\n",
      "Train labels shape:  (49000,)\n",
      "Validation data shape:  (1000, 3073)\n",
      "Validation labels shape:  (1000,)\n",
      "Test data shape:  (1000, 3073)\n",
      "Test labels shape:  (1000,)\n",
      "dev data shape:  (500, 3073)\n",
      "dev labels shape:  (500,)\n"
     ]
    }
   ],
   "source": [
    "def get_CIFAR10_data(num_training=49000, num_validation=1000, num_test=1000, num_dev=500):\n",
    "  \"\"\"\n",
    "  Load the CIFAR-10 dataset from disk and perform preprocessing to prepare\n",
    "  it for the linear classifier. These are the same steps as we used for the\n",
    "  SVM, but condensed to a single function.  \n",
    "  \"\"\"\n",
    "  # Load the raw CIFAR-10 data\n",
    "  cifar10_dir = 'cs231n/datasets/cifar-10-batches-py'\n",
    "  X_train, y_train, X_test, y_test = load_CIFAR10(cifar10_dir)\n",
    "  \n",
    "  # subsample the data\n",
    "  mask = range(num_training, num_training + num_validation)\n",
    "  X_val = X_train[mask]\n",
    "  y_val = y_train[mask]\n",
    "  mask = range(num_training)\n",
    "  X_train = X_train[mask]\n",
    "  y_train = y_train[mask]\n",
    "  mask = range(num_test)\n",
    "  X_test = X_test[mask]\n",
    "  y_test = y_test[mask]\n",
    "  mask = np.random.choice(num_training, num_dev, replace=False)\n",
    "  X_dev = X_train[mask]\n",
    "  y_dev = y_train[mask]\n",
    "  \n",
    "  # Preprocessing: reshape the image data into rows\n",
    "  X_train = np.reshape(X_train, (X_train.shape[0], -1))\n",
    "  X_val = np.reshape(X_val, (X_val.shape[0], -1))\n",
    "  X_test = np.reshape(X_test, (X_test.shape[0], -1))\n",
    "  X_dev = np.reshape(X_dev, (X_dev.shape[0], -1))\n",
    "  \n",
    "  # Normalize the data: subtract the mean image\n",
    "  mean_image = np.mean(X_train, axis = 0)\n",
    "  X_train -= mean_image\n",
    "  X_val -= mean_image\n",
    "  X_test -= mean_image\n",
    "  X_dev -= mean_image\n",
    "  \n",
    "  # add bias dimension and transform into columns\n",
    "  X_train = np.hstack([X_train, np.ones((X_train.shape[0], 1))])\n",
    "  X_val = np.hstack([X_val, np.ones((X_val.shape[0], 1))])\n",
    "  X_test = np.hstack([X_test, np.ones((X_test.shape[0], 1))])\n",
    "  X_dev = np.hstack([X_dev, np.ones((X_dev.shape[0], 1))])\n",
    "  \n",
    "  return X_train, y_train, X_val, y_val, X_test, y_test, X_dev, y_dev\n",
    "\n",
    "\n",
    "# Invoke the above function to get our data.\n",
    "X_train, y_train, X_val, y_val, X_test, y_test, X_dev, y_dev = get_CIFAR10_data()\n",
    "print 'Train data shape: ', X_train.shape\n",
    "print 'Train labels shape: ', y_train.shape\n",
    "print 'Validation data shape: ', X_val.shape\n",
    "print 'Validation labels shape: ', y_val.shape\n",
    "print 'Test data shape: ', X_test.shape\n",
    "print 'Test labels shape: ', y_test.shape\n",
    "print 'dev data shape: ', X_dev.shape\n",
    "print 'dev labels shape: ', y_dev.shape"
   ]
  },
  {
   "cell_type": "markdown",
   "metadata": {},
   "source": [
    "## Softmax Classifier\n",
    "\n",
    "Your code for this section will all be written inside **cs231n/classifiers/softmax.py**. \n"
   ]
  },
  {
   "cell_type": "code",
   "execution_count": 9,
   "metadata": {
    "collapsed": false
   },
   "outputs": [
    {
     "name": "stdout",
     "output_type": "stream",
     "text": [
      "loss: 2.344067\n",
      "sanity check: 2.302585\n"
     ]
    }
   ],
   "source": [
    "# First implement the naive softmax loss function with nested loops.\n",
    "# Open the file cs231n/classifiers/softmax.py and implement the\n",
    "# softmax_loss_naive function.\n",
    "\n",
    "from cs231n.classifiers.softmax import softmax_loss_naive\n",
    "import time\n",
    "\n",
    "# Generate a random softmax weight matrix and use it to compute the loss.\n",
    "W = np.random.randn(3073, 10) * 0.0001\n",
    "loss, grad = softmax_loss_naive(W, X_dev, y_dev, 0.0)\n",
    "\n",
    "# As a rough sanity check, our loss should be something close to -log(0.1).\n",
    "print 'loss: %f' % loss\n",
    "print 'sanity check: %f' % (-np.log(0.1))"
   ]
  },
  {
   "cell_type": "markdown",
   "metadata": {},
   "source": [
    "## Inline Question 1:\n",
    "Why do we expect our loss to be close to -log(0.1)? Explain briefly.**\n",
    "\n",
    "**Your answer:** *Ten classes, we expect that a random W will give 1/10=0.1 prob for each class, therefore the loss will be $\\sum_1^n(-log(0.1))/n=-log(0.1)$ *\n"
   ]
  },
  {
   "cell_type": "code",
   "execution_count": 10,
   "metadata": {
    "collapsed": false
   },
   "outputs": [
    {
     "name": "stdout",
     "output_type": "stream",
     "text": [
      "numerical: 1.781745 analytic: 1.781745, relative error: 4.631772e-08\n",
      "numerical: -1.628283 analytic: -1.628283, relative error: 4.255958e-08\n",
      "numerical: 0.590488 analytic: 0.590488, relative error: 8.561356e-08\n",
      "numerical: 4.434559 analytic: 4.434559, relative error: 1.732663e-08\n",
      "numerical: 0.317319 analytic: 0.317319, relative error: 1.227946e-07\n",
      "numerical: 0.550371 analytic: 0.550371, relative error: 8.373749e-09\n",
      "numerical: -2.760896 analytic: -2.760896, relative error: 2.578062e-08\n",
      "numerical: 1.127581 analytic: 1.127581, relative error: 4.075897e-08\n",
      "numerical: 0.521471 analytic: 0.521471, relative error: 4.696355e-08\n",
      "numerical: -1.169762 analytic: -1.169762, relative error: 3.095862e-08\n",
      "numerical: -1.079988 analytic: -1.079988, relative error: 3.760670e-08\n",
      "numerical: 2.022330 analytic: 2.022330, relative error: 2.945680e-08\n",
      "numerical: -2.330665 analytic: -2.330665, relative error: 1.499105e-10\n",
      "numerical: 1.617647 analytic: 1.617647, relative error: 5.170485e-09\n",
      "numerical: -0.334708 analytic: -0.334708, relative error: 2.119039e-07\n",
      "numerical: -6.598918 analytic: -6.598918, relative error: 7.352156e-09\n",
      "numerical: -1.056307 analytic: -1.056307, relative error: 2.015436e-08\n",
      "numerical: -4.088512 analytic: -4.088512, relative error: 5.341318e-09\n",
      "numerical: 1.089049 analytic: 1.089049, relative error: 3.586006e-08\n",
      "numerical: -1.849506 analytic: -1.849506, relative error: 1.407937e-08\n"
     ]
    }
   ],
   "source": [
    "# Complete the implementation of softmax_loss_naive and implement a (naive)\n",
    "# version of the gradient that uses nested loops.\n",
    "loss, grad = softmax_loss_naive(W, X_dev, y_dev, 0.0)\n",
    "\n",
    "# As we did for the SVM, use numeric gradient checking as a debugging tool.\n",
    "# The numeric gradient should be close to the analytic gradient.\n",
    "from cs231n.gradient_check import grad_check_sparse\n",
    "f = lambda w: softmax_loss_naive(w, X_dev, y_dev, 0.0)[0]\n",
    "grad_numerical = grad_check_sparse(f, W, grad, 10)\n",
    "\n",
    "# similar to SVM case, do another gradient check with regularization\n",
    "loss, grad = softmax_loss_naive(W, X_dev, y_dev, 1e2)\n",
    "f = lambda w: softmax_loss_naive(w, X_dev, y_dev, 1e2)[0]\n",
    "grad_numerical = grad_check_sparse(f, W, grad, 10)"
   ]
  },
  {
   "cell_type": "code",
   "execution_count": 15,
   "metadata": {
    "collapsed": false
   },
   "outputs": [
    {
     "name": "stdout",
     "output_type": "stream",
     "text": [
      "naive loss: 2.344067e+00 computed in 0.151519s\n",
      "vectorized loss: 2.344067e+00 computed in 0.011449s\n",
      "Loss difference: 0.000000\n",
      "Gradient difference: 0.000000\n"
     ]
    }
   ],
   "source": [
    "# Now that we have a naive implementation of the softmax loss function and its gradient,\n",
    "# implement a vectorized version in softmax_loss_vectorized.\n",
    "# The two versions should compute the same results, but the vectorized version should be\n",
    "# much faster.\n",
    "tic = time.time()\n",
    "loss_naive, grad_naive = softmax_loss_naive(W, X_dev, y_dev, 0.00001)\n",
    "toc = time.time()\n",
    "print 'naive loss: %e computed in %fs' % (loss_naive, toc - tic)\n",
    "\n",
    "from cs231n.classifiers.softmax import softmax_loss_vectorized\n",
    "tic = time.time()\n",
    "loss_vectorized, grad_vectorized = softmax_loss_vectorized(W, X_dev, y_dev, 0.00001)\n",
    "toc = time.time()\n",
    "print 'vectorized loss: %e computed in %fs' % (loss_vectorized, toc - tic)\n",
    "\n",
    "# As we did for the SVM, we use the Frobenius norm to compare the two versions\n",
    "# of the gradient.\n",
    "grad_difference = np.linalg.norm(grad_naive - grad_vectorized, ord='fro')\n",
    "print 'Loss difference: %f' % np.abs(loss_naive - loss_vectorized)\n",
    "print 'Gradient difference: %f' % grad_difference"
   ]
  },
  {
   "cell_type": "code",
   "execution_count": 20,
   "metadata": {
    "collapsed": false
   },
   "outputs": [
    {
     "name": "stdout",
     "output_type": "stream",
     "text": [
      "iteration 0 / 2000: loss 768.450475\n",
      "iteration 100 / 2000: loss 281.601487\n",
      "iteration 200 / 2000: loss 104.341279\n",
      "iteration 300 / 2000: loss 39.471131\n",
      "iteration 400 / 2000: loss 15.741488\n",
      "iteration 500 / 2000: loss 7.086745\n",
      "iteration 600 / 2000: loss 3.950039\n",
      "iteration 700 / 2000: loss 2.798505\n",
      "iteration 800 / 2000: loss 2.357987\n",
      "iteration 900 / 2000: loss 2.193613\n",
      "iteration 1000 / 2000: loss 2.130578\n",
      "iteration 1100 / 2000: loss 2.091841\n",
      "iteration 1200 / 2000: loss 2.100792\n",
      "iteration 1300 / 2000: loss 2.068558\n",
      "iteration 1400 / 2000: loss 2.098631\n",
      "iteration 1500 / 2000: loss 2.142192\n",
      "iteration 1600 / 2000: loss 2.077862\n",
      "iteration 1700 / 2000: loss 2.054900\n",
      "iteration 1800 / 2000: loss 2.134646\n",
      "iteration 1900 / 2000: loss 2.160671\n",
      "iteration 0 / 2000: loss 20.892655\n",
      "iteration 100 / 2000: loss 19.235771\n",
      "iteration 200 / 2000: loss 18.235409\n",
      "iteration 300 / 2000: loss 17.888150\n",
      "iteration 400 / 2000: loss 17.464491\n",
      "iteration 500 / 2000: loss 17.030887\n",
      "iteration 600 / 2000: loss 16.580853\n",
      "iteration 700 / 2000: loss 16.020196\n",
      "iteration 800 / 2000: loss 15.529573\n",
      "iteration 900 / 2000: loss 15.350500\n",
      "iteration 1000 / 2000: loss 15.307758\n",
      "iteration 1100 / 2000: loss 14.746302\n",
      "iteration 1200 / 2000: loss 14.458039\n",
      "iteration 1300 / 2000: loss 13.980043\n",
      "iteration 1400 / 2000: loss 14.143542\n",
      "iteration 1500 / 2000: loss 13.724343\n",
      "iteration 1600 / 2000: loss 13.297234\n",
      "iteration 1700 / 2000: loss 13.097837\n",
      "iteration 1800 / 2000: loss 12.887143\n",
      "iteration 1900 / 2000: loss 12.342888\n",
      "iteration 0 / 2000: loss 769.205595\n",
      "iteration 100 / 2000: loss 2.094438\n",
      "iteration 200 / 2000: loss 2.129075\n",
      "iteration 300 / 2000: loss 2.102000\n",
      "iteration 400 / 2000: loss 2.033582\n",
      "iteration 500 / 2000: loss 2.098339\n",
      "iteration 600 / 2000: loss 2.065739\n",
      "iteration 700 / 2000: loss 2.137599\n",
      "iteration 800 / 2000: loss 2.100492\n",
      "iteration 900 / 2000: loss 2.126691\n",
      "iteration 1000 / 2000: loss 2.051272\n",
      "iteration 1100 / 2000: loss 2.103956\n",
      "iteration 1200 / 2000: loss 2.103482\n",
      "iteration 1300 / 2000: loss 2.075688\n",
      "iteration 1400 / 2000: loss 2.083781\n",
      "iteration 1500 / 2000: loss 2.087146\n",
      "iteration 1600 / 2000: loss 2.125109\n",
      "iteration 1700 / 2000: loss 2.094220\n",
      "iteration 1800 / 2000: loss 2.083060\n",
      "iteration 1900 / 2000: loss 2.092529\n",
      "iteration 0 / 2000: loss 20.486960\n",
      "iteration 100 / 2000: loss 14.784482\n",
      "iteration 200 / 2000: loss 12.505464\n",
      "iteration 300 / 2000: loss 10.260212\n",
      "iteration 400 / 2000: loss 8.616275\n",
      "iteration 500 / 2000: loss 7.367458\n",
      "iteration 600 / 2000: loss 6.361814\n",
      "iteration 700 / 2000: loss 5.462726\n",
      "iteration 800 / 2000: loss 4.830729\n",
      "iteration 900 / 2000: loss 4.230593\n",
      "iteration 1000 / 2000: loss 3.568815\n",
      "iteration 1100 / 2000: loss 3.514606\n",
      "iteration 1200 / 2000: loss 3.061145\n",
      "iteration 1300 / 2000: loss 2.872386\n",
      "iteration 1400 / 2000: loss 2.772627\n",
      "iteration 1500 / 2000: loss 2.528690\n",
      "iteration 1600 / 2000: loss 2.401429\n",
      "iteration 1700 / 2000: loss 2.176336\n",
      "iteration 1800 / 2000: loss 2.231288\n",
      "iteration 1900 / 2000: loss 2.207835\n",
      "lr 1.000000e-07 reg 1.000000e+03 train accuracy: 0.269878 val accuracy: 0.287000\n",
      "lr 1.000000e-07 reg 5.000000e+04 train accuracy: 0.332776 val accuracy: 0.350000\n",
      "lr 1.000000e-06 reg 1.000000e+03 train accuracy: 0.411163 val accuracy: 0.410000\n",
      "lr 1.000000e-06 reg 5.000000e+04 train accuracy: 0.321776 val accuracy: 0.335000\n",
      "best validation accuracy achieved during cross-validation: 0.410000\n"
     ]
    }
   ],
   "source": [
    "# Use the validation set to tune hyperparameters (regularization strength and\n",
    "# learning rate). You should experiment with different ranges for the learning\n",
    "# rates and regularization strengths; if you are careful you should be able to\n",
    "# get a classification accuracy of over 0.35 on the validation set.\n",
    "from cs231n.classifiers import Softmax\n",
    "results = {}\n",
    "best_val = -1\n",
    "best_softmax = None\n",
    "learning_rates = [1e-7, 1e-6]\n",
    "regularization_strengths = [5e4, 1e3]\n",
    "\n",
    "################################################################################\n",
    "# TODO:                                                                        #\n",
    "# Use the validation set to set the learning rate and regularization strength. #\n",
    "# This should be identical to the validation that you did for the SVM; save    #\n",
    "# the best trained softmax classifer in best_softmax.                          #\n",
    "################################################################################\n",
    "\n",
    "for lr in learning_rates:\n",
    "    for reg in regularization_strengths:\n",
    "        softmax = Softmax()\n",
    "        loss_hist = softmax.train(X_train, y_train, learning_rate=lr, reg=reg,\n",
    "                              num_iters=2000, verbose=True)\n",
    "        y_val_pred=softmax.predict(X_val)\n",
    "        val_accuracy=np.mean(y_val == y_val_pred)\n",
    "        y_train_pred=softmax.predict(X_train)\n",
    "        train_accuracy=np.mean(y_train == y_train_pred)\n",
    "        results[(lr,reg)]=(train_accuracy,val_accuracy)\n",
    "        if (val_accuracy>best_val):\n",
    "            best_val=val_accuracy\n",
    "            best_softmax=softmax\n",
    "################################################################################\n",
    "#                              END OF YOUR CODE                                #\n",
    "################################################################################\n",
    "    \n",
    "# Print out results.\n",
    "for lr, reg in sorted(results):\n",
    "    train_accuracy, val_accuracy = results[(lr, reg)]\n",
    "    print 'lr %e reg %e train accuracy: %f val accuracy: %f' % (\n",
    "                lr, reg, train_accuracy, val_accuracy)\n",
    "    \n",
    "print 'best validation accuracy achieved during cross-validation: %f' % best_val"
   ]
  },
  {
   "cell_type": "code",
   "execution_count": 21,
   "metadata": {
    "collapsed": false
   },
   "outputs": [
    {
     "name": "stdout",
     "output_type": "stream",
     "text": [
      "softmax on raw pixels final test set accuracy: 0.384000\n"
     ]
    }
   ],
   "source": [
    "# evaluate on test set\n",
    "# Evaluate the best softmax on test set\n",
    "y_test_pred = best_softmax.predict(X_test)\n",
    "test_accuracy = np.mean(y_test == y_test_pred)\n",
    "print 'softmax on raw pixels final test set accuracy: %f' % (test_accuracy, )"
   ]
  },
  {
   "cell_type": "code",
   "execution_count": 22,
   "metadata": {
    "collapsed": false
   },
   "outputs": [
    {
     "data": {
      "image/png": "[encoded data removed]",
      "text/plain": [
       "<matplotlib.figure.Figure at 0x7f3fd7601790>"
      ]
     },
     "metadata": {},
     "output_type": "display_data"
    }
   ],
   "source": [
    "# Visualize the learned weights for each class\n",
    "w = best_softmax.W[:-1,:] # strip out the bias\n",
    "w = w.reshape(32, 32, 3, 10)\n",
    "\n",
    "w_min, w_max = np.min(w), np.max(w)\n",
    "\n",
    "classes = ['plane', 'car', 'bird', 'cat', 'deer', 'dog', 'frog', 'horse', 'ship', 'truck']\n",
    "for i in xrange(10):\n",
    "  plt.subplot(2, 5, i + 1)\n",
    "  \n",
    "  # Rescale the weights to be between 0 and 255\n",
    "  wimg = 255.0 * (w[:, :, :, i].squeeze() - w_min) / (w_max - w_min)\n",
    "  plt.imshow(wimg.astype('uint8'))\n",
    "  plt.axis('off')\n",
    "  plt.title(classes[i])"
   ]
  }
 ],
 "metadata": {
  "kernelspec": {
   "display_name": "Python 2",
   "language": "python",
   "name": "python2"
  },
  "language_info": {
   "codemirror_mode": {
    "name": "ipython",
    "version": 2
   },
   "file_extension": ".py",
   "mimetype": "text/x-python",
   "name": "python",
   "nbconvert_exporter": "python",
   "pygments_lexer": "ipython2",
   "version": "2.7.6"
  }
 },
 "nbformat": 4,
 "nbformat_minor": 0
}
